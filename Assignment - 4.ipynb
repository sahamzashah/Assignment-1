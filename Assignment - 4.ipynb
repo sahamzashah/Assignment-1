{
 "cells": [
  {
   "cell_type": "code",
   "execution_count": 6,
   "metadata": {},
   "outputs": [
    {
     "name": "stdout",
     "output_type": "stream",
     "text": [
      "Hamza\n",
      "Shah\n",
      "23\n",
      "karachi\n",
      "Intermediate\n"
     ]
    }
   ],
   "source": [
    "\"\"\"\n",
    "Question - 1\n",
    "Use a dictionary to store information about a person you know. Store their first name, last name, age, and the city in \n",
    "which they live. You should have keys such as first_name, last_name, age, and city. Print each piece of information stored \n",
    "in your dictionary.Add a new key value pair about qualification then update the qualification value to high academic level then delete it.\n",
    "\"\"\"\n",
    "person = {\n",
    "    'first_name': 'Hamza',\n",
    "    'last_name': 'Shah',\n",
    "    'age': 23,\n",
    "    'city': 'karachi',\n",
    "    'Qualification': 'Intermediate',\n",
    "    }\n",
    "\n",
    "print(person['first_name'])\n",
    "print(person['last_name'])\n",
    "print(person['age'])\n",
    "print(person['city'])\n",
    "print(person['Qualification'])\n"
   ]
  },
  {
   "cell_type": "code",
   "execution_count": 14,
   "metadata": {},
   "outputs": [
    {
     "name": "stdout",
     "output_type": "stream",
     "text": [
      "\n",
      "Karachi is in Pakistan.\n",
      "  It has a population of about 15,741,000.\n",
      "  The  Pakistan Shares A Land Border With Afghanistan, China, India And Iran.\n",
      "\n",
      "Kuala Lumpur is in Malaysia.\n",
      "  It has a population of about 32.66 million.\n",
      "  The It Is Known For Its Beaches.\n",
      "\n",
      "Madinah is in Saudia Arab.\n",
      "  It has a population of about 1.1 millions.\n",
      "  The The Prophet Muhammad (P.B.U.H) Migrated To Medina From Mecca.\n"
     ]
    }
   ],
   "source": [
    "# Question - 2\n",
    "\n",
    "cities = {\n",
    "    'Karachi': {\n",
    "        'country': 'Pakistan',\n",
    "        'population': '15,741,000',\n",
    "        'fact': ' Pakistan shares a land border with Afghanistan, China, India and Iran',\n",
    "        },\n",
    "    'Kuala Lumpur': {\n",
    "        'country': 'Malaysia',\n",
    "        'population': '32.66 million',\n",
    "        'fact': 'It is known for its beaches',\n",
    "        },\n",
    "    'Madinah': {\n",
    "        'country': 'Saudia Arab',\n",
    "        'population': '1.1 millions',\n",
    "        'fact': 'The Prophet Muhammad (P.B.U.H) migrated to Medina from Mecca',\n",
    "        }\n",
    "    }\n",
    "\n",
    "for city, city_info in cities.items():\n",
    "    country = city_info['country'].title()\n",
    "    population = city_info['population']\n",
    "    fact = city_info['fact'].title()\n",
    "\n",
    "    print(\"\\n\" + city.title() + \" is in \" + country + \".\")\n",
    "    print(\"  It has a population of about \" + str(population) + \".\")\n",
    "    print(\"  The \" + fact + \".\")"
   ]
  },
  {
   "cell_type": "code",
   "execution_count": 15,
   "metadata": {},
   "outputs": [
    {
     "name": "stdout",
     "output_type": "stream",
     "text": [
      "How old are you?\n",
      "Enter 'quit' when you are finished. 15\n",
      "  Your ticket is $15.\n",
      "How old are you?\n",
      "Enter 'quit' when you are finished. 16\n",
      "  Your ticket is $15.\n",
      "How old are you?\n",
      "Enter 'quit' when you are finished. 3\n",
      "  Your ticket is $10.\n",
      "How old are you?\n",
      "Enter 'quit' when you are finished. 2\n",
      "  You get in free!\n",
      "How old are you?\n",
      "Enter 'quit' when you are finished. quit\n"
     ]
    }
   ],
   "source": [
    "#Question - 3\n",
    "\n",
    "prompt = \"How old are you?\"\n",
    "prompt += \"\\nEnter 'quit' when you are finished. \"\n",
    "\n",
    "while True:\n",
    "    age = input(prompt)\n",
    "    if age == 'quit':\n",
    "        break\n",
    "    age = int(age)\n",
    "\n",
    "    if age < 3:\n",
    "        print(\"  You get in free!\")\n",
    "    elif age < 13:\n",
    "        print(\"  Your ticket is $10.\")\n",
    "    else:\n",
    "        print(\"  Your ticket is $15.\")"
   ]
  },
  {
   "cell_type": "code",
   "execution_count": 17,
   "metadata": {},
   "outputs": [
    {
     "name": "stdout",
     "output_type": "stream",
     "text": [
      "Alice in Wonderland is one of my favorite books.\n"
     ]
    }
   ],
   "source": [
    "# Question 4\n",
    "\n",
    "def favorite_book(title):\n",
    "    \"\"\"Display a message about someone's favorite book.\"\"\"\n",
    "    print(title + \" is one of my favorite books.\")\n",
    "\n",
    "favorite_book('Alice in Wonderland')"
   ]
  },
  {
   "cell_type": "code",
   "execution_count": null,
   "metadata": {},
   "outputs": [],
   "source": [
    "#Question 5\n",
    "# This is a guess the number game.\n",
    "\n",
    "import random\n",
    "\n",
    "guessesTaken = 0\n",
    "\n",
    "print('Hello! What is your name?')\n",
    "myName = input()\n",
    "\n",
    "number = random.randint(1, 20)\n",
    "print('Well, ' + myName + ', I am thinking of a number between 1 and 20.')\n",
    "\n",
    "while guessesTaken < 6:\n",
    "        print('Take a guess.') # There are four spaces in front of print.\n",
    "        guess = input() \n",
    "        guess = int(guess)\n",
    "\n",
    "        guessesTaken = guessesTaken + 1\n",
    "\n",
    "        if guess < number:\n",
    "            print('Your guess is too low.') # There are eight spaces in front of print.\n",
    "\n",
    "        if guess > number:\n",
    "            print('Your guess is too high.')\n",
    "\n",
    "        if guess == number:\n",
    "            break\n",
    "\n",
    "if guess == number:\n",
    "    guessesTaken = str(guessesTaken)\n",
    "    print('Good job, ' + myName + '! You guessed my number in ' + guessesTaken + ' guesses!')\n",
    "\n",
    "\n",
    "\n",
    "if guess != number:\n",
    "    number = str(number)\n",
    "    print('Nope. The number I was thinking of was ' + number)"
   ]
  },
  {
   "cell_type": "code",
   "execution_count": null,
   "metadata": {},
   "outputs": [],
   "source": []
  }
 ],
 "metadata": {
  "kernelspec": {
   "display_name": "Python 3",
   "language": "python",
   "name": "python3"
  },
  "language_info": {
   "codemirror_mode": {
    "name": "ipython",
    "version": 3
   },
   "file_extension": ".py",
   "mimetype": "text/x-python",
   "name": "python",
   "nbconvert_exporter": "python",
   "pygments_lexer": "ipython3",
   "version": "3.7.4"
  }
 },
 "nbformat": 4,
 "nbformat_minor": 2
}
