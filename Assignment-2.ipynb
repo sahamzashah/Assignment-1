#!/usr/bin/env python
# coding: utf-8

# In[6]:


#Marksheet Qustion 1
sub1=int(input("Enter marks of the first subject: "))
sub2=int(input("Enter marks of the Second subject: "))
sub3=int(input("Enter marks of the third subject: "))
sub4=int(input("Enter marks of the fourth subject: "))
sub5=int(input("Enter marks of the fifth subject: "))
avg=(sub1+sub2+sub3+sub4+sub5)/5
if(avg>=80):
    print("You are successful your Grade: A ")
elif(avg>=60):
    print("CONGRATULATIONS You are successful in exam your Grade: B")
elif(avg>=50):
    print("CONGRATULATIONS You are successful in exam your Grade: C")
elif(avg>=40):
    print("CONGRATULATIONS You are successful in exam your Grade: D")
else:
    print("You are FAIL try hard")


# In[12]:


'''Qustion 2: Write a program which take input from user and identify that the given 
number is even or odd?'''

num = int(input("Enter a number: "))
mod = num % 2
if mod > 0:
    print("This is an odd number.")
else:
    print("This is an even number.")


# In[10]:


'''Qustion 3: Write a program which print the length of the list?'''

test_list = [ 1, 4, 5, 7, 8 ] 
print ("The list is : " + str(test_list)) 
counter = 0
for i in test_list: 
    counter = counter + 1
print ("Length of list using naive method is : " + str(counter)) 


# In[11]:


'''Qustion 4: Write a Python program to sum all the numeric items in a list?'''

lst = []
num = int(input('How many numbers: '))
for n in range(num):
    numbers = int(input('Enter number '))
    lst.append(numbers)
print("Sum of elements in given list is :", sum(lst))


# In[14]:


''' Qustion 5: Write a Python program to get the largest number from a numeric list.'''

lst = []
num = int(input('How many numbers: '))
for n in range(num):
    numbers = int(input('Enter number '))
    lst.append(numbers)
print("Maximum element in the list is :", max(lst), "\nMinimum element in the list is :", min(lst))


# In[28]:


'''
Question 6: Take a list, say for example this one:
a = [1, 1, 2, 3, 5, 8, 13, 21, 34, 55, 89]
and write a program that prints out all the elements of the list that are
less than 5.
'''
a = [1,1,2,3,4,8,13,21,34,55,89]
#now run a loop to traverse through the list
def print_less_than_five():
    for i in range(len(a)):
        if a[i]<5: #checking if the element is less than 5
            print(a[i]) #printing


# In[ ]:




