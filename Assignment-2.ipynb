{
 "cells": [
  {
   "cell_type": "code",
   "execution_count": 6,
   "metadata": {},
   "outputs": [
    {
     "name": "stdout",
     "output_type": "stream",
     "text": [
      "Enter marks of the first subject: 35\n",
      "Enter marks of the Second subject: 45\n",
      "Enter marks of the third subject: 35\n",
      "Enter marks of the fourth subject: 40\n",
      "Enter marks of the fifth subject: 90\n",
      "CONGRATULATIONS You are successful in exam your Grade: D\n"
     ]
    }
   ],
   "source": [
    "#Marksheet Qustion 1\n",
    "sub1=int(input(\"Enter marks of the first subject: \"))\n",
    "sub2=int(input(\"Enter marks of the Second subject: \"))\n",
    "sub3=int(input(\"Enter marks of the third subject: \"))\n",
    "sub4=int(input(\"Enter marks of the fourth subject: \"))\n",
    "sub5=int(input(\"Enter marks of the fifth subject: \"))\n",
    "avg=(sub1+sub2+sub3+sub4+sub5)/5\n",
    "if(avg>=80):\n",
    "    print(\"You are successful your Grade: A \")\n",
    "elif(avg>=60):\n",
    "    print(\"CONGRATULATIONS You are successful in exam your Grade: B\")\n",
    "elif(avg>=50):\n",
    "    print(\"CONGRATULATIONS You are successful in exam your Grade: C\")\n",
    "elif(avg>=40):\n",
    "    print(\"CONGRATULATIONS You are successful in exam your Grade: D\")\n",
    "else:\n",
    "    print(\"You are FAIL try hard\")"
   ]
  },
  {
   "cell_type": "code",
   "execution_count": 12,
   "metadata": {},
   "outputs": [
    {
     "name": "stdout",
     "output_type": "stream",
     "text": [
      "Enter a number: 16\n",
      "This is an even number.\n"
     ]
    }
   ],
   "source": [
    "'''Qustion 2: Write a program which take input from user and identify that the given \n",
    "number is even or odd?'''\n",
    "\n",
    "num = int(input(\"Enter a number: \"))\n",
    "mod = num % 2\n",
    "if mod > 0:\n",
    "    print(\"This is an odd number.\")\n",
    "else:\n",
    "    print(\"This is an even number.\")"
   ]
  },
  {
   "cell_type": "code",
   "execution_count": 10,
   "metadata": {},
   "outputs": [
    {
     "name": "stdout",
     "output_type": "stream",
     "text": [
      "The list is : [1, 4, 5, 7, 8]\n",
      "Length of list using naive method is : 5\n"
     ]
    }
   ],
   "source": [
    "'''Qustion 3: Write a program which print the length of the list?'''\n",
    "\n",
    "test_list = [ 1, 4, 5, 7, 8 ] \n",
    "print (\"The list is : \" + str(test_list)) \n",
    "counter = 0\n",
    "for i in test_list: \n",
    "    counter = counter + 1\n",
    "print (\"Length of list using naive method is : \" + str(counter)) \n"
   ]
  },
  {
   "cell_type": "code",
   "execution_count": 11,
   "metadata": {},
   "outputs": [
    {
     "name": "stdout",
     "output_type": "stream",
     "text": [
      "How many numbers: 6\n",
      "Enter number 52\n",
      "Enter number 56\n",
      "Enter number 54\n",
      "Enter number 72\n",
      "Enter number 36\n",
      "Enter number 20\n",
      "Sum of elements in given list is : 290\n"
     ]
    }
   ],
   "source": [
    "'''Qustion 4: Write a Python program to sum all the numeric items in a list?'''\n",
    "\n",
    "lst = []\n",
    "num = int(input('How many numbers: '))\n",
    "for n in range(num):\n",
    "    numbers = int(input('Enter number '))\n",
    "    lst.append(numbers)\n",
    "print(\"Sum of elements in given list is :\", sum(lst))"
   ]
  },
  {
   "cell_type": "code",
   "execution_count": 14,
   "metadata": {},
   "outputs": [
    {
     "name": "stdout",
     "output_type": "stream",
     "text": [
      "How many numbers: 6\n",
      "Enter number 55\n",
      "Enter number 45\n",
      "Enter number 35\n",
      "Enter number 25\n",
      "Enter number 15\n",
      "Enter number 5\n",
      "Maximum element in the list is : 55 \n",
      "Minimum element in the list is : 5\n"
     ]
    }
   ],
   "source": [
    "''' Qustion 5: Write a Python program to get the largest number from a numeric list.'''\n",
    "\n",
    "lst = []\n",
    "num = int(input('How many numbers: '))\n",
    "for n in range(num):\n",
    "    numbers = int(input('Enter number '))\n",
    "    lst.append(numbers)\n",
    "print(\"Maximum element in the list is :\", max(lst), \"\\nMinimum element in the list is :\", min(lst))"
   ]
  },
  {
   "cell_type": "code",
   "execution_count": 28,
   "metadata": {},
   "outputs": [],
   "source": [
    "'''\n",
    "Question 6: Take a list, say for example this one:\n",
    "a = [1, 1, 2, 3, 5, 8, 13, 21, 34, 55, 89]\n",
    "and write a program that prints out all the elements of the list that are\n",
    "less than 5.\n",
    "'''\n",
    "a = [1,1,2,3,4,8,13,21,34,55,89]\n",
    "#now run a loop to traverse through the list\n",
    "def print_less_than_five():\n",
    "    for i in range(len(a)):\n",
    "        if a[i]<5: #checking if the element is less than 5\n",
    "            print(a[i]) #printing"
   ]
  },
  {
   "cell_type": "code",
   "execution_count": null,
   "metadata": {},
   "outputs": [],
   "source": []
  }
 ],
 "metadata": {
  "kernelspec": {
   "display_name": "Python 3",
   "language": "python",
   "name": "python3"
  },
  "language_info": {
   "codemirror_mode": {
    "name": "ipython",
    "version": 3
   },
   "file_extension": ".py",
   "mimetype": "text/x-python",
   "name": "python",
   "nbconvert_exporter": "python",
   "pygments_lexer": "ipython3",
   "version": "3.7.4"
  }
 },
 "nbformat": 4,
 "nbformat_minor": 2
}
