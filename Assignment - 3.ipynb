{
 "cells": [
  {
   "cell_type": "code",
   "execution_count": 1,
   "metadata": {},
   "outputs": [
    {
     "name": "stdout",
     "output_type": "stream",
     "text": [
      "enter your first value2\n",
      "enter your second value3\n",
      "enter Operator+\n",
      "5 answer\n"
     ]
    }
   ],
   "source": [
    "val1 = input('enter your first value')\n",
    "val2 = input('enter your second value')\n",
    "operator = input('enter Operator')\n",
    "\n",
    "#Convert val1 and val2 in integer\n",
    "val1 = int(val1)\n",
    "val2 = int(val2)\n",
    "\n",
    "if operator == '+':\n",
    "    val = val1 + val2\n",
    "    print(val,'answer')\n",
    "\n",
    "elif operator == '*':\n",
    "    val = val1 * val2\n",
    "    print(val, 'answer')\n",
    "\n",
    "elif operator == '-':\n",
    "    val = val1 - val2\n",
    "    print(val, 'answer')\n",
    "\n",
    "elif operator == '/':\n",
    "    val = val1 / val2\n",
    "    print(val, 'answer')\n",
    "    \n",
    "else:\n",
    "    print('enter your correct answer')\n"
   ]
  },
  {
   "cell_type": "code",
   "execution_count": 10,
   "metadata": {},
   "outputs": [
    {
     "name": "stdout",
     "output_type": "stream",
     "text": [
      "Checking if 7 exists in list ( using loop ) : \n",
      "Element does not exist\n",
      "Element does not exist\n",
      "Element does not exist\n",
      "Element Exists\n",
      "Element does not exist\n",
      "Element does not exist\n"
     ]
    }
   ],
   "source": [
    "test_list = [ 1, 3, 5, 7, 9, 11 ] \n",
    "\n",
    "print(\"Checking if 7 exists in list ( using loop ) : \") \n",
    "\n",
    "# Checking if 7 exists in list \n",
    "# using loop \n",
    "for i in test_list: \n",
    "    if(i == 7) :\n",
    "        print (\"Element Exists\") \n",
    "    else:\n",
    "        print(\"Element does not exist\")"
   ]
  },
  {
   "cell_type": "code",
   "execution_count": 11,
   "metadata": {},
   "outputs": [
    {
     "name": "stdout",
     "output_type": "stream",
     "text": [
      "{0: 10, 1: 20}\n",
      "{0: 10, 1: 20, 2: 30}\n"
     ]
    }
   ],
   "source": [
    "d = {0:10, 1:20}\n",
    "print(d)\n",
    "d.update({2:30})\n",
    "print(d)"
   ]
  },
  {
   "cell_type": "code",
   "execution_count": 14,
   "metadata": {},
   "outputs": [
    {
     "name": "stdout",
     "output_type": "stream",
     "text": [
      "Sum : 600\n"
     ]
    }
   ],
   "source": [
    "# Python3 Program to find sum of \n",
    "# all items in a Dictionary \n",
    "\n",
    "# Function to print sum \n",
    "def returnSum(myDict): \n",
    "\t\n",
    "\tsum = 0\n",
    "\tfor i in myDict: \n",
    "\t\tsum = sum + myDict[i] \n",
    "\t\n",
    "\treturn sum\n",
    "\n",
    "# Driver Function \n",
    "dict = {'a': 100, 'b':200, 'c':300} \n",
    "print(\"Sum :\", returnSum(dict)) \n"
   ]
  },
  {
   "cell_type": "code",
   "execution_count": 15,
   "metadata": {},
   "outputs": [
    {
     "name": "stdout",
     "output_type": "stream",
     "text": [
      "[20, 30, -20, 60]\n"
     ]
    }
   ],
   "source": [
    "# Python program to print \n",
    "# duplicates from a list \n",
    "# of integers \n",
    "def Repeat(x): \n",
    "\t_size = len(x) \n",
    "\trepeated = [] \n",
    "\tfor i in range(_size): \n",
    "\t\tk = i + 1\n",
    "\t\tfor j in range(k, _size): \n",
    "\t\t\tif x[i] == x[j] and x[i] not in repeated: \n",
    "\t\t\t\trepeated.append(x[i]) \n",
    "\treturn repeated \n",
    "\n",
    "# Driver Code \n",
    "list1 = [10, 20, 30, 20, 20, 30, 40, \n",
    "\t\t50, -20, 60, 60, -20, -20] \n",
    "print (Repeat(list1)) \n",
    "\t\n",
    "# This code is contributed \n",
    "# by Sandeep_anand \n"
   ]
  },
  {
   "cell_type": "code",
   "execution_count": 17,
   "metadata": {},
   "outputs": [
    {
     "name": "stdout",
     "output_type": "stream",
     "text": [
      "Key is present in the dictionary\n",
      "Key is not present in the dictionary\n"
     ]
    }
   ],
   "source": [
    "d = {1: 10, 2: 20, 3: 30, 4: 40, 5: 50, 6: 60}\n",
    "def is_key_present(x):\n",
    "    if x in d:\n",
    "        print('Key is present in the dictionary')\n",
    "    else:\n",
    "        print('Key is not present in the dictionary')\n",
    "is_key_present(5)\n",
    "is_key_present(9)"
   ]
  },
  {
   "cell_type": "code",
   "execution_count": null,
   "metadata": {},
   "outputs": [],
   "source": []
  }
 ],
 "metadata": {
  "kernelspec": {
   "display_name": "Python 3",
   "language": "python",
   "name": "python3"
  },
  "language_info": {
   "codemirror_mode": {
    "name": "ipython",
    "version": 3
   },
   "file_extension": ".py",
   "mimetype": "text/x-python",
   "name": "python",
   "nbconvert_exporter": "python",
   "pygments_lexer": "ipython3",
   "version": "3.7.4"
  }
 },
 "nbformat": 4,
 "nbformat_minor": 2
}
